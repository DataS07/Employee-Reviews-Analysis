{
 "cells": [
  {
   "cell_type": "markdown",
   "metadata": {},
   "source": [
    "# EDA: Google, Amazon, Apple and Microsoft Employee Reviews\n",
    "\n",
    "In this notebook, I will do some exploratory data analysis on [employee reviews](https://www.kaggle.com/petersunga/google-amazon-facebook-employee-reviews) data for some of the top tech companies in US and see if we can uncover any interesting trends.\n",
    "\n",
    "The idea is to first start with some simple summary statistics, then move to visualizing some of the data in order to get better context. At end, we will explore the reviews themselves to figure out what people are saying about each company."
   ]
  },
  {
   "cell_type": "code",
   "execution_count": 1,
   "metadata": {},
   "outputs": [],
   "source": [
    "%matplotlib inline\n",
    "import pandas as pd\n",
    "import numpy as np\n",
    "import matplotlib.pyplot as plt\n",
    "import seaborn as sns\n",
    "from datetime import datetime\n",
    "import re\n",
    "import nltk\n",
    "#nltk.download(\"stopwords\") \n",
    "from nltk.corpus import stopwords\n",
    "from nltk.stem.porter import PorterStemmer\n",
    "from nltk.stem.wordnet import WordNetLemmatizer\n",
    "#nltk.download(\"wordnet\")\n",
    "from nltk.tokenize import RegexpTokenizer\n",
    "from wordcloud import WordCloud"
   ]
  },
  {
   "cell_type": "markdown",
   "metadata": {},
   "source": [
    "## 1. Getting the data"
   ]
  },
  {
   "cell_type": "code",
   "execution_count": 2,
   "metadata": {},
   "outputs": [
    {
     "data": {
      "text/html": [
       "<div>\n",
       "<style scoped>\n",
       "    .dataframe tbody tr th:only-of-type {\n",
       "        vertical-align: middle;\n",
       "    }\n",
       "\n",
       "    .dataframe tbody tr th {\n",
       "        vertical-align: top;\n",
       "    }\n",
       "\n",
       "    .dataframe thead th {\n",
       "        text-align: right;\n",
       "    }\n",
       "</style>\n",
       "<table border=\"1\" class=\"dataframe\">\n",
       "  <thead>\n",
       "    <tr style=\"text-align: right;\">\n",
       "      <th></th>\n",
       "      <th>Unnamed: 0</th>\n",
       "      <th>company</th>\n",
       "      <th>location</th>\n",
       "      <th>dates</th>\n",
       "      <th>job-title</th>\n",
       "      <th>summary</th>\n",
       "      <th>pros</th>\n",
       "      <th>cons</th>\n",
       "      <th>advice-to-mgmt</th>\n",
       "      <th>overall-ratings</th>\n",
       "      <th>work-balance-stars</th>\n",
       "      <th>culture-values-stars</th>\n",
       "      <th>carrer-opportunities-stars</th>\n",
       "      <th>comp-benefit-stars</th>\n",
       "      <th>senior-mangemnet-stars</th>\n",
       "      <th>helpful-count</th>\n",
       "      <th>link</th>\n",
       "    </tr>\n",
       "  </thead>\n",
       "  <tbody>\n",
       "    <tr>\n",
       "      <th>0</th>\n",
       "      <td>1</td>\n",
       "      <td>google</td>\n",
       "      <td>none</td>\n",
       "      <td>Dec 11, 2018</td>\n",
       "      <td>Current Employee - Anonymous Employee</td>\n",
       "      <td>Best Company to work for</td>\n",
       "      <td>People are smart and friendly</td>\n",
       "      <td>Bureaucracy is slowing things down</td>\n",
       "      <td>none</td>\n",
       "      <td>5.0</td>\n",
       "      <td>4.0</td>\n",
       "      <td>5.0</td>\n",
       "      <td>5.0</td>\n",
       "      <td>4.0</td>\n",
       "      <td>5.0</td>\n",
       "      <td>0</td>\n",
       "      <td>https://www.glassdoor.com/Reviews/Google-Revie...</td>\n",
       "    </tr>\n",
       "    <tr>\n",
       "      <th>1</th>\n",
       "      <td>2</td>\n",
       "      <td>google</td>\n",
       "      <td>Mountain View, CA</td>\n",
       "      <td>Jun 21, 2013</td>\n",
       "      <td>Former Employee - Program Manager</td>\n",
       "      <td>Moving at the speed of light, burn out is inev...</td>\n",
       "      <td>1) Food, food, food. 15+ cafes on main campus ...</td>\n",
       "      <td>1) Work/life balance. What balance? All those ...</td>\n",
       "      <td>1) Don't dismiss emotional intelligence and ad...</td>\n",
       "      <td>4.0</td>\n",
       "      <td>2.0</td>\n",
       "      <td>3.0</td>\n",
       "      <td>3.0</td>\n",
       "      <td>5.0</td>\n",
       "      <td>3.0</td>\n",
       "      <td>2094</td>\n",
       "      <td>https://www.glassdoor.com/Reviews/Google-Revie...</td>\n",
       "    </tr>\n",
       "    <tr>\n",
       "      <th>2</th>\n",
       "      <td>3</td>\n",
       "      <td>google</td>\n",
       "      <td>New York, NY</td>\n",
       "      <td>May 10, 2014</td>\n",
       "      <td>Current Employee - Software Engineer III</td>\n",
       "      <td>Great balance between big-company security and...</td>\n",
       "      <td>* If you're a software engineer, you're among ...</td>\n",
       "      <td>* It *is* becoming larger, and with it comes g...</td>\n",
       "      <td>Keep the focus on the user. Everything else wi...</td>\n",
       "      <td>5.0</td>\n",
       "      <td>5.0</td>\n",
       "      <td>4.0</td>\n",
       "      <td>5.0</td>\n",
       "      <td>5.0</td>\n",
       "      <td>4.0</td>\n",
       "      <td>949</td>\n",
       "      <td>https://www.glassdoor.com/Reviews/Google-Revie...</td>\n",
       "    </tr>\n",
       "    <tr>\n",
       "      <th>3</th>\n",
       "      <td>4</td>\n",
       "      <td>google</td>\n",
       "      <td>Mountain View, CA</td>\n",
       "      <td>Feb 8, 2015</td>\n",
       "      <td>Current Employee - Anonymous Employee</td>\n",
       "      <td>The best place I've worked and also the most d...</td>\n",
       "      <td>You can't find a more well-regarded company th...</td>\n",
       "      <td>I live in SF so the commute can take between 1...</td>\n",
       "      <td>Keep on NOT micromanaging - that is a huge ben...</td>\n",
       "      <td>5.0</td>\n",
       "      <td>2.0</td>\n",
       "      <td>5.0</td>\n",
       "      <td>5.0</td>\n",
       "      <td>4.0</td>\n",
       "      <td>5.0</td>\n",
       "      <td>498</td>\n",
       "      <td>https://www.glassdoor.com/Reviews/Google-Revie...</td>\n",
       "    </tr>\n",
       "    <tr>\n",
       "      <th>4</th>\n",
       "      <td>5</td>\n",
       "      <td>google</td>\n",
       "      <td>Los Angeles, CA</td>\n",
       "      <td>Jul 19, 2018</td>\n",
       "      <td>Former Employee - Software Engineer</td>\n",
       "      <td>Unique, one of a kind dream job</td>\n",
       "      <td>Google is a world of its own. At every other c...</td>\n",
       "      <td>If you don't work in MTV (HQ), you will be giv...</td>\n",
       "      <td>Promote managers into management for their man...</td>\n",
       "      <td>5.0</td>\n",
       "      <td>5.0</td>\n",
       "      <td>5.0</td>\n",
       "      <td>5.0</td>\n",
       "      <td>5.0</td>\n",
       "      <td>5.0</td>\n",
       "      <td>49</td>\n",
       "      <td>https://www.glassdoor.com/Reviews/Google-Revie...</td>\n",
       "    </tr>\n",
       "  </tbody>\n",
       "</table>\n",
       "</div>"
      ],
      "text/plain": [
       "   Unnamed: 0 company           location          dates  \\\n",
       "0           1  google               none   Dec 11, 2018   \n",
       "1           2  google  Mountain View, CA   Jun 21, 2013   \n",
       "2           3  google       New York, NY   May 10, 2014   \n",
       "3           4  google  Mountain View, CA    Feb 8, 2015   \n",
       "4           5  google    Los Angeles, CA   Jul 19, 2018   \n",
       "\n",
       "                                  job-title  \\\n",
       "0     Current Employee - Anonymous Employee   \n",
       "1         Former Employee - Program Manager   \n",
       "2  Current Employee - Software Engineer III   \n",
       "3     Current Employee - Anonymous Employee   \n",
       "4       Former Employee - Software Engineer   \n",
       "\n",
       "                                             summary  \\\n",
       "0                           Best Company to work for   \n",
       "1  Moving at the speed of light, burn out is inev...   \n",
       "2  Great balance between big-company security and...   \n",
       "3  The best place I've worked and also the most d...   \n",
       "4                    Unique, one of a kind dream job   \n",
       "\n",
       "                                                pros  \\\n",
       "0                      People are smart and friendly   \n",
       "1  1) Food, food, food. 15+ cafes on main campus ...   \n",
       "2  * If you're a software engineer, you're among ...   \n",
       "3  You can't find a more well-regarded company th...   \n",
       "4  Google is a world of its own. At every other c...   \n",
       "\n",
       "                                                cons  \\\n",
       "0                 Bureaucracy is slowing things down   \n",
       "1  1) Work/life balance. What balance? All those ...   \n",
       "2  * It *is* becoming larger, and with it comes g...   \n",
       "3  I live in SF so the commute can take between 1...   \n",
       "4  If you don't work in MTV (HQ), you will be giv...   \n",
       "\n",
       "                                      advice-to-mgmt  overall-ratings  \\\n",
       "0                                               none              5.0   \n",
       "1  1) Don't dismiss emotional intelligence and ad...              4.0   \n",
       "2  Keep the focus on the user. Everything else wi...              5.0   \n",
       "3  Keep on NOT micromanaging - that is a huge ben...              5.0   \n",
       "4  Promote managers into management for their man...              5.0   \n",
       "\n",
       "  work-balance-stars culture-values-stars carrer-opportunities-stars  \\\n",
       "0                4.0                  5.0                        5.0   \n",
       "1                2.0                  3.0                        3.0   \n",
       "2                5.0                  4.0                        5.0   \n",
       "3                2.0                  5.0                        5.0   \n",
       "4                5.0                  5.0                        5.0   \n",
       "\n",
       "  comp-benefit-stars senior-mangemnet-stars  helpful-count  \\\n",
       "0                4.0                    5.0              0   \n",
       "1                5.0                    3.0           2094   \n",
       "2                5.0                    4.0            949   \n",
       "3                4.0                    5.0            498   \n",
       "4                5.0                    5.0             49   \n",
       "\n",
       "                                                link  \n",
       "0  https://www.glassdoor.com/Reviews/Google-Revie...  \n",
       "1  https://www.glassdoor.com/Reviews/Google-Revie...  \n",
       "2  https://www.glassdoor.com/Reviews/Google-Revie...  \n",
       "3  https://www.glassdoor.com/Reviews/Google-Revie...  \n",
       "4  https://www.glassdoor.com/Reviews/Google-Revie...  "
      ]
     },
     "execution_count": 2,
     "metadata": {},
     "output_type": "execute_result"
    }
   ],
   "source": [
    "df = pd.read_csv('Data/employee_reviews.csv')\n",
    "df.head()"
   ]
  },
  {
   "cell_type": "markdown",
   "metadata": {},
   "source": [
    "## 2. Cleaning and Transforming the data"
   ]
  },
  {
   "cell_type": "code",
   "execution_count": 3,
   "metadata": {},
   "outputs": [
    {
     "data": {
      "text/plain": [
       "(67529, 17)"
      ]
     },
     "execution_count": 3,
     "metadata": {},
     "output_type": "execute_result"
    }
   ],
   "source": [
    "df.shape"
   ]
  },
  {
   "cell_type": "code",
   "execution_count": 4,
   "metadata": {},
   "outputs": [
    {
     "data": {
      "text/plain": [
       "amazon       39.138740\n",
       "microsoft    26.551556\n",
       "apple        19.176946\n",
       "google       11.578729\n",
       "facebook      2.354544\n",
       "netflix       1.199485\n",
       "Name: company, dtype: float64"
      ]
     },
     "execution_count": 4,
     "metadata": {},
     "output_type": "execute_result"
    }
   ],
   "source": [
    "# Percentage of data points per company\n",
    "df[\"company\"].value_counts()/len(df[\"company\"])*100"
   ]
  },
  {
   "cell_type": "code",
   "execution_count": 5,
   "metadata": {},
   "outputs": [
    {
     "data": {
      "text/html": [
       "<div>\n",
       "<style scoped>\n",
       "    .dataframe tbody tr th:only-of-type {\n",
       "        vertical-align: middle;\n",
       "    }\n",
       "\n",
       "    .dataframe tbody tr th {\n",
       "        vertical-align: top;\n",
       "    }\n",
       "\n",
       "    .dataframe thead th {\n",
       "        text-align: right;\n",
       "    }\n",
       "</style>\n",
       "<table border=\"1\" class=\"dataframe\">\n",
       "  <thead>\n",
       "    <tr style=\"text-align: right;\">\n",
       "      <th></th>\n",
       "      <th>Unnamed: 0</th>\n",
       "      <th>company</th>\n",
       "      <th>location</th>\n",
       "      <th>dates</th>\n",
       "      <th>job-title</th>\n",
       "      <th>summary</th>\n",
       "      <th>pros</th>\n",
       "      <th>cons</th>\n",
       "      <th>overall-ratings</th>\n",
       "      <th>work-balance-stars</th>\n",
       "      <th>culture-values-stars</th>\n",
       "      <th>carrer-opportunities-stars</th>\n",
       "      <th>comp-benefit-stars</th>\n",
       "      <th>senior-mangemnet-stars</th>\n",
       "      <th>helpful-count</th>\n",
       "      <th>year</th>\n",
       "    </tr>\n",
       "  </thead>\n",
       "  <tbody>\n",
       "    <tr>\n",
       "      <th>0</th>\n",
       "      <td>1</td>\n",
       "      <td>google</td>\n",
       "      <td>none</td>\n",
       "      <td>Dec 11, 2018</td>\n",
       "      <td>Current Employee - Anonymous Employee</td>\n",
       "      <td>Best Company to work for</td>\n",
       "      <td>People are smart and friendly</td>\n",
       "      <td>Bureaucracy is slowing things down</td>\n",
       "      <td>5.0</td>\n",
       "      <td>4.0</td>\n",
       "      <td>5.0</td>\n",
       "      <td>5.0</td>\n",
       "      <td>4.0</td>\n",
       "      <td>5.0</td>\n",
       "      <td>0</td>\n",
       "      <td>2018</td>\n",
       "    </tr>\n",
       "    <tr>\n",
       "      <th>1</th>\n",
       "      <td>2</td>\n",
       "      <td>google</td>\n",
       "      <td>Mountain View, CA</td>\n",
       "      <td>Jun 21, 2013</td>\n",
       "      <td>Former Employee - Program Manager</td>\n",
       "      <td>Moving at the speed of light, burn out is inev...</td>\n",
       "      <td>1) Food, food, food. 15+ cafes on main campus ...</td>\n",
       "      <td>1) Work/life balance. What balance? All those ...</td>\n",
       "      <td>4.0</td>\n",
       "      <td>2.0</td>\n",
       "      <td>3.0</td>\n",
       "      <td>3.0</td>\n",
       "      <td>5.0</td>\n",
       "      <td>3.0</td>\n",
       "      <td>2094</td>\n",
       "      <td>2013</td>\n",
       "    </tr>\n",
       "    <tr>\n",
       "      <th>2</th>\n",
       "      <td>3</td>\n",
       "      <td>google</td>\n",
       "      <td>New York, NY</td>\n",
       "      <td>May 10, 2014</td>\n",
       "      <td>Current Employee - Software Engineer III</td>\n",
       "      <td>Great balance between big-company security and...</td>\n",
       "      <td>* If you're a software engineer, you're among ...</td>\n",
       "      <td>* It *is* becoming larger, and with it comes g...</td>\n",
       "      <td>5.0</td>\n",
       "      <td>5.0</td>\n",
       "      <td>4.0</td>\n",
       "      <td>5.0</td>\n",
       "      <td>5.0</td>\n",
       "      <td>4.0</td>\n",
       "      <td>949</td>\n",
       "      <td>2014</td>\n",
       "    </tr>\n",
       "    <tr>\n",
       "      <th>3</th>\n",
       "      <td>4</td>\n",
       "      <td>google</td>\n",
       "      <td>Mountain View, CA</td>\n",
       "      <td>Feb 8, 2015</td>\n",
       "      <td>Current Employee - Anonymous Employee</td>\n",
       "      <td>The best place I've worked and also the most d...</td>\n",
       "      <td>You can't find a more well-regarded company th...</td>\n",
       "      <td>I live in SF so the commute can take between 1...</td>\n",
       "      <td>5.0</td>\n",
       "      <td>2.0</td>\n",
       "      <td>5.0</td>\n",
       "      <td>5.0</td>\n",
       "      <td>4.0</td>\n",
       "      <td>5.0</td>\n",
       "      <td>498</td>\n",
       "      <td>2015</td>\n",
       "    </tr>\n",
       "    <tr>\n",
       "      <th>4</th>\n",
       "      <td>5</td>\n",
       "      <td>google</td>\n",
       "      <td>Los Angeles, CA</td>\n",
       "      <td>Jul 19, 2018</td>\n",
       "      <td>Former Employee - Software Engineer</td>\n",
       "      <td>Unique, one of a kind dream job</td>\n",
       "      <td>Google is a world of its own. At every other c...</td>\n",
       "      <td>If you don't work in MTV (HQ), you will be giv...</td>\n",
       "      <td>5.0</td>\n",
       "      <td>5.0</td>\n",
       "      <td>5.0</td>\n",
       "      <td>5.0</td>\n",
       "      <td>5.0</td>\n",
       "      <td>5.0</td>\n",
       "      <td>49</td>\n",
       "      <td>2018</td>\n",
       "    </tr>\n",
       "  </tbody>\n",
       "</table>\n",
       "</div>"
      ],
      "text/plain": [
       "   Unnamed: 0 company           location          dates  \\\n",
       "0           1  google               none   Dec 11, 2018   \n",
       "1           2  google  Mountain View, CA   Jun 21, 2013   \n",
       "2           3  google       New York, NY   May 10, 2014   \n",
       "3           4  google  Mountain View, CA    Feb 8, 2015   \n",
       "4           5  google    Los Angeles, CA   Jul 19, 2018   \n",
       "\n",
       "                                  job-title  \\\n",
       "0     Current Employee - Anonymous Employee   \n",
       "1         Former Employee - Program Manager   \n",
       "2  Current Employee - Software Engineer III   \n",
       "3     Current Employee - Anonymous Employee   \n",
       "4       Former Employee - Software Engineer   \n",
       "\n",
       "                                             summary  \\\n",
       "0                           Best Company to work for   \n",
       "1  Moving at the speed of light, burn out is inev...   \n",
       "2  Great balance between big-company security and...   \n",
       "3  The best place I've worked and also the most d...   \n",
       "4                    Unique, one of a kind dream job   \n",
       "\n",
       "                                                pros  \\\n",
       "0                      People are smart and friendly   \n",
       "1  1) Food, food, food. 15+ cafes on main campus ...   \n",
       "2  * If you're a software engineer, you're among ...   \n",
       "3  You can't find a more well-regarded company th...   \n",
       "4  Google is a world of its own. At every other c...   \n",
       "\n",
       "                                                cons  overall-ratings  \\\n",
       "0                 Bureaucracy is slowing things down              5.0   \n",
       "1  1) Work/life balance. What balance? All those ...              4.0   \n",
       "2  * It *is* becoming larger, and with it comes g...              5.0   \n",
       "3  I live in SF so the commute can take between 1...              5.0   \n",
       "4  If you don't work in MTV (HQ), you will be giv...              5.0   \n",
       "\n",
       "  work-balance-stars culture-values-stars carrer-opportunities-stars  \\\n",
       "0                4.0                  5.0                        5.0   \n",
       "1                2.0                  3.0                        3.0   \n",
       "2                5.0                  4.0                        5.0   \n",
       "3                2.0                  5.0                        5.0   \n",
       "4                5.0                  5.0                        5.0   \n",
       "\n",
       "  comp-benefit-stars senior-mangemnet-stars  helpful-count  year  \n",
       "0                4.0                    5.0              0  2018  \n",
       "1                5.0                    3.0           2094  2013  \n",
       "2                5.0                    4.0            949  2014  \n",
       "3                4.0                    5.0            498  2015  \n",
       "4                5.0                    5.0             49  2018  "
      ]
     },
     "execution_count": 5,
     "metadata": {},
     "output_type": "execute_result"
    }
   ],
   "source": [
    "df = df.drop(['link', 'advice-to-mgmt'], axis=1)\n",
    "df = df.loc[~df['company'].isin(['facebook', 'netflix']), :]\n",
    "df = df.loc[df['dates'] != 'None', :]\n",
    "df['year'] = pd.to_datetime(df['dates'], errors='coerce').dt.year\n",
    "df.dropna(how='all', inplace=True)\n",
    "df.dropna(subset=['company', 'year', \"overall-ratings\", \"job-title\"], inplace=True)\n",
    "df['year'] = df['year'].astype('int64')\n",
    "df.head()"
   ]
  },
  {
   "cell_type": "markdown",
   "metadata": {},
   "source": [
    "## 3. Exploratory Data Analysis (EDA)"
   ]
  },
  {
   "cell_type": "code",
   "execution_count": 6,
   "metadata": {},
   "outputs": [
    {
     "data": {
      "text/html": [
       "<div>\n",
       "<style scoped>\n",
       "    .dataframe tbody tr th:only-of-type {\n",
       "        vertical-align: middle;\n",
       "    }\n",
       "\n",
       "    .dataframe tbody tr th {\n",
       "        vertical-align: top;\n",
       "    }\n",
       "\n",
       "    .dataframe thead th {\n",
       "        text-align: right;\n",
       "    }\n",
       "</style>\n",
       "<table border=\"1\" class=\"dataframe\">\n",
       "  <thead>\n",
       "    <tr style=\"text-align: right;\">\n",
       "      <th></th>\n",
       "      <th>count</th>\n",
       "      <th>mean</th>\n",
       "      <th>std</th>\n",
       "      <th>min</th>\n",
       "      <th>25%</th>\n",
       "      <th>50%</th>\n",
       "      <th>75%</th>\n",
       "      <th>max</th>\n",
       "    </tr>\n",
       "    <tr>\n",
       "      <th>company</th>\n",
       "      <th></th>\n",
       "      <th></th>\n",
       "      <th></th>\n",
       "      <th></th>\n",
       "      <th></th>\n",
       "      <th></th>\n",
       "      <th></th>\n",
       "      <th></th>\n",
       "    </tr>\n",
       "  </thead>\n",
       "  <tbody>\n",
       "    <tr>\n",
       "      <th>amazon</th>\n",
       "      <td>26428.0</td>\n",
       "      <td>3.587294</td>\n",
       "      <td>1.257326</td>\n",
       "      <td>1.0</td>\n",
       "      <td>3.0</td>\n",
       "      <td>4.0</td>\n",
       "      <td>5.0</td>\n",
       "      <td>5.0</td>\n",
       "    </tr>\n",
       "    <tr>\n",
       "      <th>apple</th>\n",
       "      <td>12949.0</td>\n",
       "      <td>3.958221</td>\n",
       "      <td>1.064073</td>\n",
       "      <td>1.0</td>\n",
       "      <td>3.0</td>\n",
       "      <td>4.0</td>\n",
       "      <td>5.0</td>\n",
       "      <td>5.0</td>\n",
       "    </tr>\n",
       "    <tr>\n",
       "      <th>google</th>\n",
       "      <td>7819.0</td>\n",
       "      <td>4.339430</td>\n",
       "      <td>0.920695</td>\n",
       "      <td>1.0</td>\n",
       "      <td>4.0</td>\n",
       "      <td>5.0</td>\n",
       "      <td>5.0</td>\n",
       "      <td>5.0</td>\n",
       "    </tr>\n",
       "    <tr>\n",
       "      <th>microsoft</th>\n",
       "      <td>17930.0</td>\n",
       "      <td>3.816564</td>\n",
       "      <td>1.036499</td>\n",
       "      <td>1.0</td>\n",
       "      <td>3.0</td>\n",
       "      <td>4.0</td>\n",
       "      <td>5.0</td>\n",
       "      <td>5.0</td>\n",
       "    </tr>\n",
       "  </tbody>\n",
       "</table>\n",
       "</div>"
      ],
      "text/plain": [
       "             count      mean       std  min  25%  50%  75%  max\n",
       "company                                                        \n",
       "amazon     26428.0  3.587294  1.257326  1.0  3.0  4.0  5.0  5.0\n",
       "apple      12949.0  3.958221  1.064073  1.0  3.0  4.0  5.0  5.0\n",
       "google      7819.0  4.339430  0.920695  1.0  4.0  5.0  5.0  5.0\n",
       "microsoft  17930.0  3.816564  1.036499  1.0  3.0  4.0  5.0  5.0"
      ]
     },
     "execution_count": 6,
     "metadata": {},
     "output_type": "execute_result"
    }
   ],
   "source": [
    "df.groupby('company')['overall-ratings'].describe()"
   ]
  },
  {
   "cell_type": "markdown",
   "metadata": {},
   "source": [
    "### A. Distribution of Reviews by Company"
   ]
  },
  {
   "cell_type": "code",
   "execution_count": null,
   "metadata": {},
   "outputs": [],
   "source": [
    "reviews_count = df['company'].value_counts().sort_values(ascending=True)\n",
    "comp_labels = reviews_count.index.tolist()\n",
    "comp_index = np.arange(len(comp_labels))\n",
    "sns.set(style=\"whitegrid\")\n",
    "\n",
    "plt.figure(figsize=(12, 9))\n",
    "sns.barplot(comp_index, reviews_count, palette=\"rocket\")\n",
    "plt.xticks(comp_index, comp_labels)\n",
    "plt.xlabel('Companyies')\n",
    "plt.ylabel('Number of Reviews')\n",
    "_ = plt.title('Distribution of Reviews per Company')\n",
    "plt.savefig(\"distribution_reviews.png\", dpi=900)"
   ]
  },
  {
   "cell_type": "markdown",
   "metadata": {},
   "source": [
    "**Observations:** We can clearly see that Amazon has the most reviews (25,000+) and Google has the least amount (less than 10,000). "
   ]
  },
  {
   "cell_type": "markdown",
   "metadata": {},
   "source": [
    "### C. Reviews per Year"
   ]
  },
  {
   "cell_type": "code",
   "execution_count": null,
   "metadata": {},
   "outputs": [],
   "source": [
    "years_count = df['year'].value_counts().sort_index(ascending=True)\n",
    "years_labels = years_count.index.tolist()\n",
    "years_index = np.arange(len(years_labels))\n",
    "\n",
    "plt.figure(figsize=(12, 9))\n",
    "_ = sns.barplot(years_index, years_count, palette='rocket')\n",
    "_ = plt.xticks(years_index, years_labels)\n",
    "_ = plt.xlabel(\"Years\")\n",
    "_ = plt.ylabel(\"Number of Reviews\")\n",
    "_ = plt.title(\"Reviews per Year\")\n"
   ]
  },
  {
   "cell_type": "markdown",
   "metadata": {},
   "source": [
    "**Observations:** We can clearly see that most of the reviews come from the past 3-4 years. But this tell us if all the companies had the most reviews in the past couple of years. "
   ]
  },
  {
   "cell_type": "markdown",
   "metadata": {},
   "source": [
    "### D. Reviews per year per company"
   ]
  },
  {
   "cell_type": "code",
   "execution_count": null,
   "metadata": {},
   "outputs": [],
   "source": [
    "'''\n",
    "fig, axs = plt.subplots(2,2, figsize=(12, 9), facecolor='w', edgecolor='k')\n",
    "companies = ['microsoft', 'apple', 'google', 'amazon']\n",
    "axs = axs.ravel()\n",
    "\n",
    "for i, company in enumerate(companies):\n",
    "    \n",
    "    years_count = df[df['company'] == company]['year'].value_counts().sort_index(ascending=True)\n",
    "    years_labels = years_count.index.tolist()\n",
    "    years_index = np.arange(len(years_labels))\n",
    "\n",
    "    _ = axs[i].bar(years_index, years_count, tick_label = years_labels)\n",
    "    _ = axs[i].set_xlabel(\"Years\")\n",
    "    _ = axs[i].set_ylabel(\"Number of Reviews\")\n",
    "    _ = axs[i].set_title(\"{}: Reviews per Year\".format(company.title()))\n",
    "    \n",
    "fig.tight_layout()\n",
    "'''\n",
    "\n",
    "fig, axs = plt.subplots(2,2, figsize=(12, 9)) #, facecolor='w', edgecolor='k')\n",
    "companies = [['microsoft', 'apple'], ['google', 'amazon']]\n",
    "#axs = axs.ravel()\n",
    "\n",
    "for i in range(2):\n",
    "    for j in range(2):\n",
    "    \n",
    "        company = companies[i][j]\n",
    "        years_count = df[df['company'] == company]['year'].value_counts().sort_index(ascending=True)\n",
    "        years_labels = years_count.index.tolist()\n",
    "        years_index = np.arange(len(years_labels))\n",
    "\n",
    "        g = sns.barplot(years_index, years_count, tick_label = years_labels, ax=axs[i][j], palette='rocket')\n",
    "        g.set(xticklabels=years_labels)\n",
    "        _ = axs[i][j].set_xlabel(\"Years\")\n",
    "        _ = axs[i][j].set_ylabel(\"Number of Reviews\")\n",
    "        _ = axs[i][j].set_title(\"{}: Reviews per Year\".format(company.title()))\n",
    "    \n",
    "fig.tight_layout()"
   ]
  },
  {
   "cell_type": "markdown",
   "metadata": {},
   "source": [
    "**Observations:** Most of the reviews are from the past 3 years (not including 2019). There are reviews from as far back as 2008\n",
    "\n",
    "* Google: Most reviews from past 4 years\n",
    "* Apple: Most reviews from past 4-5 years\n",
    "* Microsoft: Most reviews from past 4-6 years\n",
    "* Amazon: Most reviews from past 2-4 years\n"
   ]
  },
  {
   "cell_type": "markdown",
   "metadata": {},
   "source": [
    "Based on the observations above, ee will only consider reviews from the past 4 years (2015-2018) since they might be the most relevant in figuring out what makes each company good or bad"
   ]
  },
  {
   "cell_type": "code",
   "execution_count": null,
   "metadata": {},
   "outputs": [],
   "source": [
    "df = df[df[\"year\"].isin([\"2018\", \"2017\", \"2016\", \"2015\"])]\n",
    "df[\"year\"].unique()"
   ]
  },
  {
   "cell_type": "markdown",
   "metadata": {},
   "source": [
    "### E. Rating over time\n",
    "How has the average rating of each company changed over the past two years"
   ]
  },
  {
   "cell_type": "code",
   "execution_count": null,
   "metadata": {},
   "outputs": [],
   "source": [
    "fig, ax = plt.subplots(figsize=(15,9))\n",
    "df.groupby(['year', 'company'])['overall-ratings'].mean().unstack().plot(ax=ax)\n",
    "_ = plt.xlabel(\"Years\")\n",
    "_ = plt.ylabel(\"Overall Ratings\")\n",
    "_ = plt.title(\"Overall Ratings per Year\")"
   ]
  },
  {
   "cell_type": "markdown",
   "metadata": {},
   "source": [
    "**Observations:** We can see that the average overall rating for each company has not decreased since 2015, expect for Apple. Google has the highest average overall rating\n",
    "\n",
    "* Google: Has increased but seems to be have decresed sligtly in the past two years\n",
    "* Amazon: Has increased dramatically since 2015. Doesn't seem to be decreasing.\n",
    "* Microsoft: Increasing slowly\n",
    "* Apple: Seems to be going down."
   ]
  },
  {
   "cell_type": "markdown",
   "metadata": {},
   "source": [
    "### B. Distribution of Reviews by type of employee (Current vs Former)"
   ]
  },
  {
   "cell_type": "code",
   "execution_count": null,
   "metadata": {},
   "outputs": [],
   "source": [
    "current_employee_count = df['job-title'].str.split('-', expand=True)[0].value_counts().sort_values(ascending=True)\n",
    "employee_labels = current_employee_count.index.tolist()\n",
    "employee_index = np.arange(len(employee_labels))\n",
    "\n",
    "\n",
    "plt.figure(figsize=(12, 9))\n",
    "_ = sns.barplot(employee_index, current_employee_count, palette=[\"gray\", \"b\"])\n",
    "_ = plt.xticks(employee_index, employee_labels)\n",
    "\n",
    "_ = plt.xlabel('Types of Employee')\n",
    "_ = plt.ylabel('Number of Reviews')\n",
    "_ = plt.title('Distribution of Reviews by type of employee (Current vs Former)')"
   ]
  },
  {
   "cell_type": "markdown",
   "metadata": {},
   "source": [
    "**Obeservations:** Most of the reviews seem to come from current employees. Although this is good since it probably means that the reviews are relevant, it also begs the question of how much bias there is."
   ]
  },
  {
   "cell_type": "markdown",
   "metadata": {},
   "source": [
    "### Average ratings for different feature (by company)"
   ]
  },
  {
   "cell_type": "code",
   "execution_count": null,
   "metadata": {},
   "outputs": [],
   "source": [
    "df.columns"
   ]
  },
  {
   "cell_type": "code",
   "execution_count": null,
   "metadata": {},
   "outputs": [],
   "source": [
    "ratings_comp = df[[\"company\", \"work-balance-stars\", \"culture-values-stars\", \"carrer-opportunities-stars\", \"comp-benefit-stars\", \"senior-mangemnet-stars\"]]\n",
    "ratings_comp.set_index([\"company\"], inplace=True)\n",
    "ratings_comp = ratings_comp[~(ratings_comp[[\"work-balance-stars\", \"culture-values-stars\", \"carrer-opportunities-stars\", \"comp-benefit-stars\", \"senior-mangemnet-stars\"]] == \"none\").any(axis=1)]\n",
    "ratings_comp[[\"work-balance-stars\", \"culture-values-stars\", \"carrer-opportunities-stars\", \"comp-benefit-stars\", \"senior-mangemnet-stars\"]] = ratings_comp[[\"work-balance-stars\", \"culture-values-stars\", \"carrer-opportunities-stars\", \"comp-benefit-stars\", \"senior-mangemnet-stars\"]].apply(pd.to_numeric)\n",
    "group = ratings_comp.groupby(\"company\")[\"work-balance-stars\", \"culture-values-stars\", \"carrer-opportunities-stars\", \"comp-benefit-stars\", \"senior-mangemnet-stars\"].mean()\n",
    "group.columns = [\"Work Balance\", \"Culture Values\", \"Career Opportunities\", \"Company Benefits\", \"Senior Management\"]\n",
    "group = group.transpose()\n",
    "group"
   ]
  },
  {
   "cell_type": "code",
   "execution_count": null,
   "metadata": {},
   "outputs": [],
   "source": [
    "plt.figure(figsize=(12, 9))\n",
    "_ = sns.heatmap(group, annot=True, fmt=\"f\")"
   ]
  },
  {
   "cell_type": "markdown",
   "metadata": {},
   "source": [
    "**Observations:** Overall, Google holds the best ratings for Work Balance, Culture Values, Career Opportunities, Company Benefits, and Senior Management. \n",
    "\n",
    "* Apple is second in Senior Management, Company Benefits, and Culture Values. \n",
    "* Microsoft is second in Work Balance and Career Opportunities."
   ]
  },
  {
   "cell_type": "code",
   "execution_count": null,
   "metadata": {},
   "outputs": [],
   "source": [
    "def rating_per_company(rating_type, title, color):\n",
    "    work_ratings = df[['company', rating_type]]\n",
    "    work_ratings = work_ratings[~(work_ratings[[rating_type]] == \"none\").any(axis=1)]\n",
    "    work_ratings[rating_type] = work_ratings[rating_type].apply(pd.to_numeric)\n",
    "    group = work_ratings.groupby(work_ratings[\"company\"].str.title())[rating_type].mean().reset_index()\n",
    "    group.sort_values([rating_type],inplace=True)\n",
    "    group.set_index('company').plot.barh(legend=False, figsize=(12, 10), color=color)\n",
    "    plt.title('{} Rating'.format(title))\n",
    "    plt.xlabel('Rating')\n",
    "    _ = plt.ylabel('Companies')"
   ]
  },
  {
   "cell_type": "code",
   "execution_count": null,
   "metadata": {},
   "outputs": [],
   "source": [
    "rating_per_company('work-balance-stars', \"Work Balance\", \"r\")"
   ]
  },
  {
   "cell_type": "code",
   "execution_count": null,
   "metadata": {},
   "outputs": [],
   "source": [
    "rating_per_company(\"culture-values-stars\", \"Culture Values\", \"b\")"
   ]
  },
  {
   "cell_type": "code",
   "execution_count": null,
   "metadata": {},
   "outputs": [],
   "source": [
    "rating_per_company(\"carrer-opportunities-stars\", \"Career Opportunities\", \"g\")"
   ]
  },
  {
   "cell_type": "code",
   "execution_count": null,
   "metadata": {},
   "outputs": [],
   "source": [
    "rating_per_company(\"comp-benefit-stars\", \"Company Benefits\", \"#cdca04\")"
   ]
  },
  {
   "cell_type": "code",
   "execution_count": null,
   "metadata": {},
   "outputs": [],
   "source": [
    "rating_per_company(\"senior-mangemnet-stars\", \"Senior Management\", \"#e06743\")"
   ]
  },
  {
   "cell_type": "markdown",
   "metadata": {},
   "source": [
    "### F. Who is reviewing\n",
    "Identify, who is reviewing, current or former employee, what title?"
   ]
  },
  {
   "cell_type": "code",
   "execution_count": null,
   "metadata": {},
   "outputs": [],
   "source": [
    "fig, axs = plt.subplots(2,2, figsize=(12, 9), facecolor='w', edgecolor='k')\n",
    "companies = ['microsoft', 'apple', 'google', 'amazon']\n",
    "axs = axs.ravel()\n",
    "\n",
    "\n",
    "for i, company in enumerate(companies):\n",
    "    current_employee_count = df.loc[df['company'] == company]['job-title'].str.split('-', expand=True)[0].value_counts().sort_values(ascending=True)\n",
    "    employee_labels = current_employee_count.index.tolist()\n",
    "    employee_index = np.arange(len(employee_labels))\n",
    "        \n",
    "    bars = axs[i].bar(employee_index, current_employee_count, tick_label=employee_labels)\n",
    "    bars[0].set_color('gray')\n",
    "    bars[1].set_color('b')\n",
    "    _ = axs[i].set_xlabel('Types of Employee')\n",
    "    _ = axs[i].set_ylabel('Number of Reviews')\n",
    "    _ = axs[i].set_title('{}: Reviews (Current vs Former)'.format(company.title()))\n",
    "    \n",
    "fig.tight_layout()\n",
    "\n"
   ]
  },
  {
   "cell_type": "markdown",
   "metadata": {},
   "source": [
    "**Obersevations:** We can clearly see that most of the reviews for each company come from current employees."
   ]
  },
  {
   "cell_type": "code",
   "execution_count": null,
   "metadata": {},
   "outputs": [],
   "source": [
    "df['job-title'].str.split(' - ', expand=True)[1].value_counts().head(5)"
   ]
  },
  {
   "cell_type": "markdown",
   "metadata": {},
   "source": [
    "**Obeservations:** Most of the job titles is anonymous. Based on this, it many not be worth it to summarize the data based on the job title."
   ]
  },
  {
   "cell_type": "markdown",
   "metadata": {},
   "source": [
    "### G. Average Rating of Current vs Former Employee (per Company)\n",
    "\n",
    "Let's see what the average rating of current and former employees per company"
   ]
  },
  {
   "cell_type": "code",
   "execution_count": null,
   "metadata": {},
   "outputs": [],
   "source": [
    "fig, axs = plt.subplots(2,2, figsize=(12, 9), facecolor='w', edgecolor='k')\n",
    "companies = ['microsoft', 'apple', 'google', 'amazon']\n",
    "axs = axs.ravel()\n",
    "\n",
    "for i, company in enumerate(companies):\n",
    "    \n",
    "        job_rating = df[df['company'] == company][['job-title', 'overall-ratings']]\n",
    "        job_rating['job-title'] = job_rating['job-title'].str.split(' - ', expand=True)[0]\n",
    "        job_rating_count = job_rating.groupby('job-title')['overall-ratings'].mean().sort_values(ascending=True)\n",
    "\n",
    "        bars = axs[i].bar([0,1], job_rating_count, tick_label = ['Current Employee', 'Former Employee'])\n",
    "        bars[0].set_color('gray')\n",
    "        bars[1].set_color('b')\n",
    "        _ = axs[i].set_title('{}: Avg. Overall Rating (Current vs Former)'.format(company.title()))\n",
    "        _ = axs[i].set_xlabel(\"Types of Employee\")\n",
    "        _ = axs[i].set_ylabel(\"Avg. Overall Rating\")\n",
    "\n",
    "fig.tight_layout()"
   ]
  },
  {
   "cell_type": "markdown",
   "metadata": {},
   "source": [
    "**Observations:** Based on the plots above, we can see the Amazon has the biggest difference in the overall rating between current and former employees. One possible reason could be that former employees left the company because they had a negative experience."
   ]
  },
  {
   "cell_type": "markdown",
   "metadata": {},
   "source": [
    "### What are Pros and Cons about\n",
    "Identify trend or top keywords in the pros and cons comments"
   ]
  },
  {
   "cell_type": "code",
   "execution_count": null,
   "metadata": {},
   "outputs": [],
   "source": [
    "pd.set_option('display.max_colwidth', -1)\n",
    "df[['pros']].head(5)"
   ]
  },
  {
   "cell_type": "code",
   "execution_count": null,
   "metadata": {},
   "outputs": [],
   "source": [
    "pros_count = df['pros'].str.split().str.len()\n",
    "cons_count = df['cons'].str.split().str.len()\n",
    "#summary_count = df['summary'].str.split().str.len()"
   ]
  },
  {
   "cell_type": "code",
   "execution_count": null,
   "metadata": {},
   "outputs": [],
   "source": [
    "pros_count.describe()"
   ]
  },
  {
   "cell_type": "code",
   "execution_count": null,
   "metadata": {},
   "outputs": [],
   "source": [
    "cons_count.describe()"
   ]
  },
  {
   "cell_type": "markdown",
   "metadata": {},
   "source": [
    "**Observations:** We can that the word count between comments varies by a lot. We have reviews with just a few words and others that are multiple paragraphs. 50% of comments (pros and cons) are between 12-15 words long."
   ]
  },
  {
   "cell_type": "markdown",
   "metadata": {},
   "source": [
    "## Clean and Transform Data"
   ]
  },
  {
   "cell_type": "code",
   "execution_count": null,
   "metadata": {},
   "outputs": [],
   "source": [
    "stop_words = set(stopwords.words(\"english\"))\n",
    "stop_words = stop_words.union(df[\"company\"].unique()) # Include Company names\n",
    "print(stop_words)"
   ]
  },
  {
   "cell_type": "code",
   "execution_count": null,
   "metadata": {},
   "outputs": [],
   "source": [
    "def top_words(company, review_type, stop_words, top=20):\n",
    "    \n",
    "    corpus = df[df['company'] == company][review_type].str.lower()\n",
    "\n",
    "    # Remove punctuations\n",
    "    corpus = corpus.str.replace(\"[^a-zA-Z]\", \" \")\n",
    "\n",
    "    # Convert to list from string\n",
    "    corpus = corpus.str.split()\n",
    "\n",
    "    # Remove stop words\n",
    "    corpus = corpus.apply(lambda x: [word for word in x if word not in stop_words])\n",
    "\n",
    "\n",
    "    # Lemmatisation\n",
    "    lem = WordNetLemmatizer()\n",
    "\n",
    "    def lemmatize_text(text):\n",
    "        return [lem.lemmatize(word) for word in text]\n",
    "\n",
    "    corpus = corpus.apply(lemmatize_text)\n",
    "\n",
    "    corpus = corpus.apply(pd.Series).stack()\n",
    "    \n",
    "    return set(corpus.value_counts()[:top].index.tolist())"
   ]
  },
  {
   "cell_type": "code",
   "execution_count": null,
   "metadata": {},
   "outputs": [],
   "source": [
    "google_pros = top_words(\"google\", \"pros\", stop_words)\n",
    "micro_pros = top_words(\"microsoft\", \"pros\", stop_words)\n",
    "apple_pros = top_words(\"apple\", \"pros\", stop_words)\n",
    "amazon_pros = top_words(\"amazon\", \"pros\", stop_words)\n",
    "\n",
    "company_common_pros = set.intersection(google_pros, micro_pros, apple_pros, amazon_pros)\n",
    "company_common_pros"
   ]
  },
  {
   "cell_type": "code",
   "execution_count": null,
   "metadata": {},
   "outputs": [],
   "source": [
    "google_cons = top_words(\"google\", \"cons\", stop_words)\n",
    "micro_cons = top_words(\"microsoft\", \"cons\", stop_words)\n",
    "apple_cons = top_words(\"apple\", \"cons\", stop_words)\n",
    "amazon_cons = top_words(\"amazon\", \"cons\", stop_words)\n",
    "\n",
    "company_common_cons = set.intersection(google_cons, micro_cons, apple_cons, amazon_cons)\n",
    "company_common_cons"
   ]
  },
  {
   "cell_type": "code",
   "execution_count": null,
   "metadata": {},
   "outputs": [],
   "source": [
    "pd.options.display.max_rows = 4000\n",
    "cons_common = pd.Series(' '.join(df['cons'].str.lower()).split()).value_counts()[:70]\n",
    "print(cons_common)"
   ]
  },
  {
   "cell_type": "code",
   "execution_count": null,
   "metadata": {},
   "outputs": [],
   "source": [
    "cons_except = {\"hours\", \"hard\", \"time\", \"life\"}"
   ]
  },
  {
   "cell_type": "code",
   "execution_count": null,
   "metadata": {},
   "outputs": [],
   "source": [
    "cons_stop = set(cons_common.index.tolist())\n",
    "cons_stop = cons_stop - set(cons_except)\n",
    "cons_stop = cons_stop.union(company_common_cons)"
   ]
  },
  {
   "cell_type": "code",
   "execution_count": null,
   "metadata": {},
   "outputs": [],
   "source": [
    "pros_common = pd.Series(' '.join(df['pros'].str.lower()).split()).value_counts()[:70]\n",
    "print(pros_common)"
   ]
  },
  {
   "cell_type": "code",
   "execution_count": null,
   "metadata": {},
   "outputs": [],
   "source": [
    "pros_except = {\"culture\", \"learn\", \"smart\", \"opportunities\", \"environment\", \"amazing\", \"team\", \"flexible\", \"opportunity\"}"
   ]
  },
  {
   "cell_type": "code",
   "execution_count": null,
   "metadata": {},
   "outputs": [],
   "source": [
    "pros_stop = set(pros_common.index.tolist())\n",
    "pros_stop = pros_stop - set(pros_except)\n",
    "pros_stop = pros_stop.union(company_common_pros)"
   ]
  },
  {
   "cell_type": "code",
   "execution_count": null,
   "metadata": {},
   "outputs": [],
   "source": [
    "def create_cloud(company, review_type, new_stop):\n",
    "    # Convert to lowercase\n",
    "    corpus = df[df['company'] == company][review_type].str.lower()\n",
    "\n",
    "    # Remove punctuations\n",
    "    corpus = corpus.str.replace(\"[^a-zA-Z]\", \" \")\n",
    "\n",
    "    # Convert to list from string\n",
    "    corpus = corpus.str.split()\n",
    "\n",
    "    # Remove stop words\n",
    "    new_stop = stop_words.union(new_stop)\n",
    "    corpus = corpus.apply(lambda x: [word for word in x if word not in new_stop])\n",
    "\n",
    "\n",
    "    # Lemmatisation\n",
    "    lem = WordNetLemmatizer()\n",
    "\n",
    "    def lemmatize_text(text):\n",
    "        return [lem.lemmatize(word) for word in text]\n",
    "\n",
    "    corpus = corpus.apply(lemmatize_text)\n",
    "\n",
    "    corpus = corpus.str.join(\" \")\n",
    "\n",
    "    # Remove Tags\n",
    "    #text = re.sub(\"&lt;/?.*?&gt;\",\" &lt;&gt; \",text)\n",
    "\n",
    "    # Remove special characters and digits\n",
    "    #corpus = corpus.str.replace(\"(\\\\d|\\\\W)+\", \" \")\n",
    "    \n",
    "    return WordCloud(width=3000, height = 2000, max_words = 50, random_state = 42, background_color = \"white\", stopwords = new_stop).generate(\" \".join(corpus))\n",
    "\n"
   ]
  },
  {
   "cell_type": "markdown",
   "metadata": {},
   "source": [
    "**Note:** All companies seem to have a few words in common for pros and cons reviews. These words are so frequent that they make other insightful words difficult to get noticed."
   ]
  },
  {
   "cell_type": "code",
   "execution_count": null,
   "metadata": {},
   "outputs": [],
   "source": [
    "for i, company in enumerate(df[\"company\"].unique()):\n",
    "    #ax = fig.add_subplot(1,4,i+1)\n",
    "    word_cloud = create_cloud(company, \"cons\", cons_stop)\n",
    "    \n",
    "    fig = plt.figure()\n",
    "    plt.imshow(word_cloud)\n",
    "    plt.title(\"{} cons\".format(company.title()))\n",
    "    plt.axis('off')\n",
    "    fig.savefig(\"{}_cons_wordcloud.png\".format(company), dpi=900)"
   ]
  },
  {
   "cell_type": "markdown",
   "metadata": {},
   "source": [
    "**Note:** Aside from stop words, the following words were common (and very frequent) among all 4 companies, but were not included in the wordclouds: 'benefit','company', 'culture', 'environment', 'good', 'great', 'lot', 'opportunity', 'people','work', 'working'\n",
    "\n",
    "These words are all important in trying to figure out what makes these companies good, but I decided to leave them out in order to make room for other frequent keywords that may be more insighful about each company."
   ]
  },
  {
   "cell_type": "markdown",
   "metadata": {},
   "source": [
    "**Observations:**\n",
    "\n",
    "* Google: Team, Hard word, , the project, politics and life balance\n",
    "* Amazon: Lack of life-balance, the hours, the culture.\n",
    "* Apple: The life-balance, retail, customers, the pay\n",
    "* Microsoft: Politics, the work-life balance, team, the hard work, the culture"
   ]
  },
  {
   "cell_type": "code",
   "execution_count": null,
   "metadata": {},
   "outputs": [],
   "source": [
    "for i, company in enumerate(df[\"company\"].unique()):\n",
    "    #ax = fig.add_subplot(1,4,i+1)\n",
    "    word_cloud = create_cloud(company, \"pros\", pros_stop)\n",
    "    \n",
    "    fig = plt.figure()\n",
    "    plt.imshow(word_cloud)\n",
    "    plt.title(\"{} pros\".format(company.title()))\n",
    "    plt.axis('off')\n",
    "    fig.savefig(\"{}_pros_wordcloud.png\".format(company), dpi=900)"
   ]
  },
  {
   "cell_type": "markdown",
   "metadata": {},
   "source": [
    "**Observations:**\n",
    "\n",
    "* Google: Perks, smart people, Free Food, salary. \n",
    "* Amazon: Learn, the team\n",
    "* Apple: Discount, the products, the team, fun, training\n",
    "* Microsoft: Smart people, product, the salary, technology, the team. "
   ]
  },
  {
   "cell_type": "markdown",
   "metadata": {},
   "source": [
    "## Conclusion\n",
    "\n",
    "Overall: As we could see from the data, the company with the highest overall rating is Google. Then follows Microsoft, Apple and Amazon.\n",
    "\n",
    "\"Work Balance\":\n",
    "\"Culture Values\":\n",
    "\"Career Opportunities\":\n",
    "\"Company Benefits\":\n",
    "\"Senior Management\": \n",
    "\n",
    "What do people like about each one of these companies?\n",
    "\n",
    "Google\n",
    "\n",
    "Microsoft\n",
    "\n",
    "Apple\n",
    "\n",
    "Amazon\n",
    "\n",
    "What do people don't like about each one of these companies?\n",
    "\n",
    "Google\n",
    "\n",
    "Microsoft\n",
    "\n",
    "Apple\n",
    "\n",
    "Amazon"
   ]
  },
  {
   "cell_type": "code",
   "execution_count": null,
   "metadata": {},
   "outputs": [],
   "source": []
  }
 ],
 "metadata": {
  "kernelspec": {
   "display_name": "Python 3",
   "language": "python",
   "name": "python3"
  },
  "language_info": {
   "codemirror_mode": {
    "name": "ipython",
    "version": 3
   },
   "file_extension": ".py",
   "mimetype": "text/x-python",
   "name": "python",
   "nbconvert_exporter": "python",
   "pygments_lexer": "ipython3",
   "version": "3.7.2"
  }
 },
 "nbformat": 4,
 "nbformat_minor": 2
}
